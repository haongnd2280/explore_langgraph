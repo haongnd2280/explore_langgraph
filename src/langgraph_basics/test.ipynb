{
 "cells": [
  {
   "cell_type": "code",
   "execution_count": 3,
   "metadata": {},
   "outputs": [],
   "source": [
    "from langgraph_basics.demo import agent"
   ]
  },
  {
   "cell_type": "code",
   "execution_count": null,
   "metadata": {},
   "outputs": [
    {
     "name": "stdout",
     "output_type": "stream",
     "text": [
      "{'messages': [HumanMessage(content='what is the weather in sf', additional_kwargs={}, response_metadata={}, id='c72263ef-f80c-471d-9e14-118b3edb3dc0'), AIMessage(content='', additional_kwargs={'tool_calls': [{'id': 'call_lTidZw7WjiXVJ4iFvHsrxAXa', 'function': {'arguments': '{\"query\":\"San Francisco weather today\"}', 'name': 'search'}, 'type': 'function'}], 'refusal': None}, response_metadata={'token_usage': {'completion_tokens': 17, 'prompt_tokens': 48, 'total_tokens': 65, 'completion_tokens_details': {'accepted_prediction_tokens': 0, 'audio_tokens': 0, 'reasoning_tokens': 0, 'rejected_prediction_tokens': 0}, 'prompt_tokens_details': {'audio_tokens': 0, 'cached_tokens': 0}}, 'model_name': 'gpt-4o-2024-08-06', 'system_fingerprint': 'fp_92f14e8683', 'id': 'chatcmpl-BL0BBubQIWf5qu5eGklyMAesnzeIi', 'finish_reason': 'tool_calls', 'logprobs': None}, id='run-e1fef5a9-1340-4de9-abe1-d06c852875c0-0', tool_calls=[{'name': 'search', 'args': {'query': 'San Francisco weather today'}, 'id': 'call_lTidZw7WjiXVJ4iFvHsrxAXa', 'type': 'tool_call'}], usage_metadata={'input_tokens': 48, 'output_tokens': 17, 'total_tokens': 65, 'input_token_details': {'audio': 0, 'cache_read': 0}, 'output_token_details': {'audio': 0, 'reasoning': 0}}), ToolMessage(content=\"It's 60 degrees and foggy.\", name='search', id='9227aaf1-fbea-4cf0-8c5b-9b0bbff5acac', tool_call_id='call_lTidZw7WjiXVJ4iFvHsrxAXa'), AIMessage(content='The weather in San Francisco today is 60 degrees and foggy.', additional_kwargs={'refusal': None}, response_metadata={'token_usage': {'completion_tokens': 16, 'prompt_tokens': 79, 'total_tokens': 95, 'completion_tokens_details': {'accepted_prediction_tokens': 0, 'audio_tokens': 0, 'reasoning_tokens': 0, 'rejected_prediction_tokens': 0}, 'prompt_tokens_details': {'audio_tokens': 0, 'cached_tokens': 0}}, 'model_name': 'gpt-4o-2024-08-06', 'system_fingerprint': 'fp_92f14e8683', 'id': 'chatcmpl-BL0BCCsE4qMUF2PLj02NhAz86ehpt', 'finish_reason': 'stop', 'logprobs': None}, id='run-e0c7c244-c0fa-4399-adb3-46b4d3cae9d9-0', usage_metadata={'input_tokens': 79, 'output_tokens': 16, 'total_tokens': 95, 'input_token_details': {'audio': 0, 'cache_read': 0}, 'output_token_details': {'audio': 0, 'reasoning': 0}})]}\n"
     ]
    }
   ],
   "source": [
    "response = agent.invoke(\n",
    "    {\"messages\": [{\"role\": \"user\", \"content\": \"what is the weather in sf\"}]}\n",
    ")\n",
    "print(response)"
   ]
  },
  {
   "cell_type": "code",
   "execution_count": 5,
   "metadata": {},
   "outputs": [
    {
     "data": {
      "text/plain": [
       "[HumanMessage(content='what is the weather in sf', additional_kwargs={}, response_metadata={}, id='c72263ef-f80c-471d-9e14-118b3edb3dc0'),\n",
       " AIMessage(content='', additional_kwargs={'tool_calls': [{'id': 'call_lTidZw7WjiXVJ4iFvHsrxAXa', 'function': {'arguments': '{\"query\":\"San Francisco weather today\"}', 'name': 'search'}, 'type': 'function'}], 'refusal': None}, response_metadata={'token_usage': {'completion_tokens': 17, 'prompt_tokens': 48, 'total_tokens': 65, 'completion_tokens_details': {'accepted_prediction_tokens': 0, 'audio_tokens': 0, 'reasoning_tokens': 0, 'rejected_prediction_tokens': 0}, 'prompt_tokens_details': {'audio_tokens': 0, 'cached_tokens': 0}}, 'model_name': 'gpt-4o-2024-08-06', 'system_fingerprint': 'fp_92f14e8683', 'id': 'chatcmpl-BL0BBubQIWf5qu5eGklyMAesnzeIi', 'finish_reason': 'tool_calls', 'logprobs': None}, id='run-e1fef5a9-1340-4de9-abe1-d06c852875c0-0', tool_calls=[{'name': 'search', 'args': {'query': 'San Francisco weather today'}, 'id': 'call_lTidZw7WjiXVJ4iFvHsrxAXa', 'type': 'tool_call'}], usage_metadata={'input_tokens': 48, 'output_tokens': 17, 'total_tokens': 65, 'input_token_details': {'audio': 0, 'cache_read': 0}, 'output_token_details': {'audio': 0, 'reasoning': 0}}),\n",
       " ToolMessage(content=\"It's 60 degrees and foggy.\", name='search', id='9227aaf1-fbea-4cf0-8c5b-9b0bbff5acac', tool_call_id='call_lTidZw7WjiXVJ4iFvHsrxAXa'),\n",
       " AIMessage(content='The weather in San Francisco today is 60 degrees and foggy.', additional_kwargs={'refusal': None}, response_metadata={'token_usage': {'completion_tokens': 16, 'prompt_tokens': 79, 'total_tokens': 95, 'completion_tokens_details': {'accepted_prediction_tokens': 0, 'audio_tokens': 0, 'reasoning_tokens': 0, 'rejected_prediction_tokens': 0}, 'prompt_tokens_details': {'audio_tokens': 0, 'cached_tokens': 0}}, 'model_name': 'gpt-4o-2024-08-06', 'system_fingerprint': 'fp_92f14e8683', 'id': 'chatcmpl-BL0BCCsE4qMUF2PLj02NhAz86ehpt', 'finish_reason': 'stop', 'logprobs': None}, id='run-e0c7c244-c0fa-4399-adb3-46b4d3cae9d9-0', usage_metadata={'input_tokens': 79, 'output_tokens': 16, 'total_tokens': 95, 'input_token_details': {'audio': 0, 'cache_read': 0}, 'output_token_details': {'audio': 0, 'reasoning': 0}})]"
      ]
     },
     "execution_count": 5,
     "metadata": {},
     "output_type": "execute_result"
    }
   ],
   "source": [
    "response[\"messages\"]"
   ]
  },
  {
   "cell_type": "code",
   "execution_count": null,
   "metadata": {},
   "outputs": [
    {
     "name": "stdout",
     "output_type": "stream",
     "text": [
      "The weather in San Francisco today is 60 degrees and foggy.\n"
     ]
    }
   ],
   "source": [
    "print(response[\"messages\"][-1].content)    # final answer"
   ]
  },
  {
   "cell_type": "code",
   "execution_count": null,
   "metadata": {},
   "outputs": [],
   "source": []
  }
 ],
 "metadata": {
  "kernelspec": {
   "display_name": ".venv",
   "language": "python",
   "name": "python3"
  },
  "language_info": {
   "codemirror_mode": {
    "name": "ipython",
    "version": 3
   },
   "file_extension": ".py",
   "mimetype": "text/x-python",
   "name": "python",
   "nbconvert_exporter": "python",
   "pygments_lexer": "ipython3",
   "version": "3.11.11"
  }
 },
 "nbformat": 4,
 "nbformat_minor": 2
}
